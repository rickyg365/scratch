{
 "cells": [
  {
   "cell_type": "code",
   "execution_count": 17,
   "metadata": {},
   "outputs": [],
   "source": [
    "import numpy as np\n",
    "import pandas as pd\n",
    "import matplotlib.pyplot as plt\n",
    "\n",
    "import mysql.connector"
   ]
  },
  {
   "cell_type": "code",
   "execution_count": 9,
   "metadata": {},
   "outputs": [],
   "source": [
    "db = mysql.connector.connect(\n",
    "    host=\"localhost\",\n",
    "    user=\"root\",\n",
    "    password=\"\",\n",
    "    database=\"\"\n",
    ")\n",
    "\n",
    "my_cursor = db.cursor()\n"
   ]
  },
  {
   "cell_type": "code",
   "execution_count": 14,
   "metadata": {},
   "outputs": [
    {
     "name": "stdout",
     "output_type": "stream",
     "text": [
      "('current_inventory',) <class 'tuple'>\n",
      "('stores',) <class 'tuple'>\n",
      "('unique_items',) <class 'tuple'>\n"
     ]
    }
   ],
   "source": [
    "my_cursor.execute(\"show tables\")\n",
    "\n",
    "for i in my_cursor:\n",
    "    print(i, type(i))"
   ]
  },
  {
   "cell_type": "code",
   "execution_count": 11,
   "metadata": {},
   "outputs": [],
   "source": [
    "# result = my_cursor.fetchall()\n",
    "\n",
    "# for i in result:\n",
    "#     print(i)"
   ]
  },
  {
   "cell_type": "code",
   "execution_count": 22,
   "metadata": {},
   "outputs": [
    {
     "data": {
      "text/plain": [
       "name                                   object\n",
       "quantity                               object\n",
       "price                                 float64\n",
       "date                                   object\n",
       "location                               object\n",
       "date finished                         float64\n",
       "previous quantity                     float64\n",
       "previous price                        float64\n",
       "previous date                          object\n",
       "previous location                      object\n",
       "timetoconsumtion                      float64\n",
       "cheapestLocation                      float64\n",
       "estimatedQuantityNeededfor a month    float64\n",
       "Unnamed: 14                           float64\n",
       "Unnamed: 15                            object\n",
       "Unnamed: 16                            object\n",
       "dtype: object"
      ]
     },
     "execution_count": 22,
     "metadata": {},
     "output_type": "execute_result"
    }
   ],
   "source": [
    "\"\"\" \n",
    "Setting Index\n",
    "\n",
    "index_col = \"chosen column\"\n",
    "\n",
    "or after reading the csv\n",
    "\n",
    "dataframe.set_index(\"chosen column\", inplace=True)\n",
    "\"\"\"\n",
    "groc_data = pd.read_csv(\"groc.csv\", index_col=\"index\")\n",
    "\n",
    "# print(groc_data.head())\n",
    "groc_data.dtypes"
   ]
  },
  {
   "cell_type": "code",
   "execution_count": null,
   "metadata": {},
   "outputs": [],
   "source": []
  },
  {
   "cell_type": "code",
   "execution_count": null,
   "metadata": {},
   "outputs": [],
   "source": []
  },
  {
   "cell_type": "code",
   "execution_count": null,
   "metadata": {},
   "outputs": [],
   "source": []
  }
 ],
 "metadata": {
  "interpreter": {
   "hash": "90758e21d6558c16f99865dd1ee6e0191ac5a9bb42525f0a34f83796a1b2c9fc"
  },
  "kernelspec": {
   "display_name": "Python 3.10.0 64-bit",
   "language": "python",
   "name": "python3"
  },
  "language_info": {
   "codemirror_mode": {
    "name": "ipython",
    "version": 3
   },
   "file_extension": ".py",
   "mimetype": "text/x-python",
   "name": "python",
   "nbconvert_exporter": "python",
   "pygments_lexer": "ipython3",
   "version": "3.10.0"
  },
  "orig_nbformat": 4
 },
 "nbformat": 4,
 "nbformat_minor": 2
}
